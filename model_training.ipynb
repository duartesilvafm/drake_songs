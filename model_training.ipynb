{
 "cells": [
  {
   "cell_type": "code",
   "execution_count": 1,
   "metadata": {},
   "outputs": [],
   "source": [
    "import numpy as np\n",
    "import tensorflow as tf\n",
    "import pandas as pd\n",
    "import re\n",
    "import string\n",
    "from unidecode import unidecode\n",
    "from dataclasses import dataclass"
   ]
  },
  {
   "attachments": {},
   "cell_type": "markdown",
   "metadata": {},
   "source": [
    "### Text Preprocessing"
   ]
  },
  {
   "cell_type": "code",
   "execution_count": 2,
   "metadata": {},
   "outputs": [
    {
     "data": {
      "text/html": [
       "<div>\n",
       "<style scoped>\n",
       "    .dataframe tbody tr th:only-of-type {\n",
       "        vertical-align: middle;\n",
       "    }\n",
       "\n",
       "    .dataframe tbody tr th {\n",
       "        vertical-align: top;\n",
       "    }\n",
       "\n",
       "    .dataframe thead th {\n",
       "        text-align: right;\n",
       "    }\n",
       "</style>\n",
       "<table border=\"1\" class=\"dataframe\">\n",
       "  <thead>\n",
       "    <tr style=\"text-align: right;\">\n",
       "      <th></th>\n",
       "      <th>album</th>\n",
       "      <th>lyrics_title</th>\n",
       "      <th>lyrics_url</th>\n",
       "      <th>lyrics</th>\n",
       "      <th>track_views</th>\n",
       "    </tr>\n",
       "  </thead>\n",
       "  <tbody>\n",
       "    <tr>\n",
       "      <th>0</th>\n",
       "      <td>Certified Lover Boy</td>\n",
       "      <td>Certified Lover Boy* Lyrics</td>\n",
       "      <td>https://genius.com/Drake-certified-lover-boy-l...</td>\n",
       "      <td>[Verse]\\nPut my feelings on ice\\nAlways been a...</td>\n",
       "      <td>8.7K</td>\n",
       "    </tr>\n",
       "    <tr>\n",
       "      <th>1</th>\n",
       "      <td>Certified Lover Boy</td>\n",
       "      <td>Like I’m Supposed To/Do Things Lyrics</td>\n",
       "      <td>https://genius.com/Drake-like-im-supposed-to-d...</td>\n",
       "      <td>[Verse]\\nHands are tied\\nSomeone's in my ear f...</td>\n",
       "      <td>38.8K</td>\n",
       "    </tr>\n",
       "    <tr>\n",
       "      <th>2</th>\n",
       "      <td>Certified Lover Boy</td>\n",
       "      <td>Not Around Lyrics</td>\n",
       "      <td>https://genius.com/Drake-not-around-lyrics</td>\n",
       "      <td>[Intro]\\nYeah, we back\\nWassup ladies?\\nSwisha...</td>\n",
       "      <td>129.8K</td>\n",
       "    </tr>\n",
       "  </tbody>\n",
       "</table>\n",
       "</div>"
      ],
      "text/plain": [
       "                 album                           lyrics_title  \\\n",
       "0  Certified Lover Boy            Certified Lover Boy* Lyrics   \n",
       "1  Certified Lover Boy  Like I’m Supposed To/Do Things Lyrics   \n",
       "2  Certified Lover Boy                      Not Around Lyrics   \n",
       "\n",
       "                                          lyrics_url  \\\n",
       "0  https://genius.com/Drake-certified-lover-boy-l...   \n",
       "1  https://genius.com/Drake-like-im-supposed-to-d...   \n",
       "2         https://genius.com/Drake-not-around-lyrics   \n",
       "\n",
       "                                              lyrics track_views  \n",
       "0  [Verse]\\nPut my feelings on ice\\nAlways been a...        8.7K  \n",
       "1  [Verse]\\nHands are tied\\nSomeone's in my ear f...       38.8K  \n",
       "2  [Intro]\\nYeah, we back\\nWassup ladies?\\nSwisha...      129.8K  "
      ]
     },
     "metadata": {},
     "output_type": "display_data"
    }
   ],
   "source": [
    "# Read file\n",
    "file = r'./data/drake_data.csv'\n",
    "\n",
    "# read as a csv with pandas\n",
    "# the structure of the data makes pandas the best library to read, since it contains columns\n",
    "data = pd.read_csv(file, sep = \",\")\n",
    "\n",
    "display(data.head(3))"
   ]
  },
  {
   "cell_type": "code",
   "execution_count": 3,
   "metadata": {},
   "outputs": [],
   "source": [
    "# dropnas in the lyrics, not interested in those\n",
    "data = data.dropna(subset = ['lyrics'], axis = 0)"
   ]
  },
  {
   "cell_type": "code",
   "execution_count": 4,
   "metadata": {},
   "outputs": [],
   "source": [
    "# get the song lyrics into a list\n",
    "drake_songs = data['lyrics'].to_list()"
   ]
  },
  {
   "cell_type": "code",
   "execution_count": 5,
   "metadata": {},
   "outputs": [],
   "source": [
    "# function to clean text\n",
    "def clean_text(song: str, line_breaks_replacement: str = ' '):\n",
    "    '''\n",
    "    Cleans a specific drake song\n",
    "\n",
    "    Args:\n",
    "        song (str): text with the lyrics of a specific song\n",
    "        line_breaks_replacement (str): character to use to replace line breaks\n",
    "\n",
    "    Returns:\n",
    "        drake_verses_joined (str): text with no line breaks and verses only sang by drake\n",
    "    '''\n",
    "\n",
    "    # remove Unicode characters\n",
    "    normalized_song = unidecode(song)\n",
    "\n",
    "    # remove line breaks\n",
    "    song_list = normalized_song.split('\\n')\n",
    "\n",
    "    # new verses\n",
    "    drake_verses = []\n",
    "    \n",
    "    # set default drake to be true\n",
    "    drake = True\n",
    "\n",
    "    # write a loop to iterate and return only the verses sung by drake\n",
    "    for verse in song_list:\n",
    "\n",
    "        if len(verse) == 0:\n",
    "            continue\n",
    "\n",
    "        # identify if its a hear by the squared brakers\n",
    "        if '[' in verse:\n",
    "\n",
    "            # update the verse_head value\n",
    "            verse_head = verse\n",
    "\n",
    "            def drake_sung(verse):\n",
    "                '''Method to identify if drake is singing the verse'''\n",
    "\n",
    "                # find a :\n",
    "                match = verse.find(':')\n",
    "\n",
    "                # when the artist is not specified its drake\n",
    "                if match == -1:\n",
    "                    return True\n",
    "\n",
    "                # else we need to check if it will be a pure drake verse\n",
    "                else:\n",
    "                    \n",
    "                    # get the list of singers\n",
    "                    singers = verse[match+2:].replace(']', '').split(' ')\n",
    "\n",
    "                    # get if drake is the only singer\n",
    "                    if ('Drake' in singers) & (len(singers) == 1):\n",
    "                        return True\n",
    "                    else:\n",
    "                        return False\n",
    "\n",
    "            # bool if sung by drake\n",
    "            drake = drake_sung(verse_head)\n",
    "\n",
    "        if (drake) & ('[' not in verse):\n",
    "\n",
    "            # remove punctuation from the verse\n",
    "            clean_verse = ''.join([x.lower() for x in verse if x not in string.punctuation])\n",
    "\n",
    "            # append to the list\n",
    "            drake_verses.append(clean_verse)\n",
    "\n",
    "    # join all of drake verses\n",
    "    drake_verses_joined = ' '.join(drake_verses)\n",
    "\n",
    "    # return the new list\n",
    "    return drake_verses_joined"
   ]
  },
  {
   "cell_type": "code",
   "execution_count": 6,
   "metadata": {},
   "outputs": [],
   "source": [
    "only_drake = ' '.join([clean_text(song) for song in drake_songs])"
   ]
  },
  {
   "attachments": {},
   "cell_type": "markdown",
   "metadata": {},
   "source": [
    "### Character vectorization"
   ]
  },
  {
   "cell_type": "code",
   "execution_count": 7,
   "metadata": {},
   "outputs": [
    {
     "name": "stdout",
     "output_type": "stream",
     "text": [
      "37 unique characters\n"
     ]
    }
   ],
   "source": [
    "# get the unique number of characyers\n",
    "drake_chars = sorted(set(only_drake))\n",
    "print(f'{len(drake_chars)} unique characters')"
   ]
  },
  {
   "cell_type": "code",
   "execution_count": 8,
   "metadata": {},
   "outputs": [],
   "source": [
    "# create a Tensor of ids for each character present in the song\n",
    "ids_from_chars = tf.keras.layers.StringLookup(\n",
    "    vocabulary=list(drake_chars), mask_token=None)"
   ]
  },
  {
   "cell_type": "code",
   "execution_count": 9,
   "metadata": {},
   "outputs": [],
   "source": [
    "# transform text into Unicde sequence\n",
    "drake_ids = tf.strings.unicode_split(only_drake, 'UTF-8')\n",
    "\n",
    "# with the String Lookup layer, tokenize the text\n",
    "ids = ids_from_chars(drake_ids)"
   ]
  },
  {
   "cell_type": "code",
   "execution_count": 10,
   "metadata": {},
   "outputs": [],
   "source": [
    "# create dataset from ids\n",
    "ids_dataset = tf.data.Dataset.from_tensor_slices(ids)"
   ]
  },
  {
   "cell_type": "code",
   "execution_count": 11,
   "metadata": {},
   "outputs": [],
   "source": [
    "# sequence length\n",
    "sequence_length = 50\n",
    "\n",
    "# create dataset\n",
    "sequences = ids_dataset.batch(sequence_length + 1, drop_remainder=True)"
   ]
  },
  {
   "cell_type": "code",
   "execution_count": 12,
   "metadata": {},
   "outputs": [],
   "source": [
    "# split input and output\n",
    "def split_input_target(sequence):\n",
    "\n",
    "    # input - everything up to last character\n",
    "    input_text = sequence[:-1]\n",
    "    \n",
    "    # last character\n",
    "    target_text = sequence[1:]\n",
    "    \n",
    "    return input_text, target_text"
   ]
  },
  {
   "cell_type": "code",
   "execution_count": 13,
   "metadata": {},
   "outputs": [],
   "source": [
    "# map sequences as input and output\n",
    "dataset = sequences.map(split_input_target)"
   ]
  },
  {
   "cell_type": "code",
   "execution_count": 14,
   "metadata": {},
   "outputs": [
    {
     "data": {
      "text/plain": [
       "<PrefetchDataset element_spec=(TensorSpec(shape=(100, 50), dtype=tf.int64, name=None), TensorSpec(shape=(100, 50), dtype=tf.int64, name=None))>"
      ]
     },
     "execution_count": 14,
     "metadata": {},
     "output_type": "execute_result"
    }
   ],
   "source": [
    "# Batch size\n",
    "BATCH_SIZE = 100\n",
    "\n",
    "# Buffer size to shuffle the dataset\n",
    "BUFFER_SIZE = 10000\n",
    "\n",
    "# shuffle to randomizer, process in batches and prefetch the dataset\n",
    "dataset = (\n",
    "    dataset\n",
    "    .shuffle(BUFFER_SIZE)\n",
    "    .batch(BATCH_SIZE, drop_remainder=True)\n",
    "    .prefetch(tf.data.experimental.AUTOTUNE))\n",
    "\n",
    "dataset"
   ]
  },
  {
   "cell_type": "code",
   "execution_count": 15,
   "metadata": {},
   "outputs": [],
   "source": [
    "# save dataset\n",
    "dataset.save('./data/character_dataset')"
   ]
  },
  {
   "attachments": {},
   "cell_type": "markdown",
   "metadata": {},
   "source": [
    "### Create Model"
   ]
  },
  {
   "cell_type": "code",
   "execution_count": 17,
   "metadata": {},
   "outputs": [],
   "source": [
    "from modules.models import CharModel"
   ]
  },
  {
   "cell_type": "code",
   "execution_count": 16,
   "metadata": {},
   "outputs": [],
   "source": [
    "# define parameters\n",
    "VOCAB_SIZE = len(ids_from_chars.get_vocabulary())\n",
    "EMBEDDING_DIM = 100\n",
    "LSTM_UNITS = 200"
   ]
  },
  {
   "cell_type": "code",
   "execution_count": null,
   "metadata": {},
   "outputs": [],
   "source": [
    "model = CharModel(\n",
    "    vocab_size=VOCAB_SIZE,\n",
    "    embedding_dim=EMBEDDING_DIM,\n",
    "    rnn_units=LSTM_UNITS)"
   ]
  },
  {
   "cell_type": "code",
   "execution_count": null,
   "metadata": {},
   "outputs": [],
   "source": [
    "# def build_model(vocab_size, embedding_dim, rnn_units, batch_size):\n",
    "\n",
    "#     model = tf.keras.Sequential([\n",
    "#         tf.keras.layers.Embedding(vocab_size, embedding_dim,\\\n",
    "#              batch_input_shape=[batch_size, None]),\n",
    "#         tf.keras.layers.Bidirectional(tf.keras.layers.LSTM(rnn_units,\\\n",
    "#             return_sequences=True, stateful=True, recurrent_initializer='glorot_uniform')),\n",
    "#         ft.keras.layers.Dropout()\n",
    "#         tf.keras.layers.Dense(vocab_size)\n",
    "#         ]\n",
    "#     )\n",
    "\n",
    "#     # compile model\n",
    "#     loss = tf.losses.SparseCategoricalCrossentropy(from_logits=True)\n",
    "#     model.compile(optimizer='adam', loss=loss)\n",
    "\n",
    "#     # print model summary\n",
    "#     model.summary()\n",
    "\n",
    "#     return model"
   ]
  },
  {
   "cell_type": "code",
   "execution_count": null,
   "metadata": {},
   "outputs": [],
   "source": [
    "# create instance of model\n",
    "model = build_model(vocab_size=VOCAB_SIZE, embedding_dim=EMBEDDING_DIM, \\\n",
    "    rnn_units=LSTM_UNITS, batch_size=BATCH_SIZE)"
   ]
  },
  {
   "attachments": {},
   "cell_type": "markdown",
   "metadata": {},
   "source": [
    "### Train the model"
   ]
  },
  {
   "cell_type": "code",
   "execution_count": null,
   "metadata": {},
   "outputs": [],
   "source": [
    "EPOCHS = 20"
   ]
  },
  {
   "cell_type": "code",
   "execution_count": null,
   "metadata": {},
   "outputs": [],
   "source": [
    "history = model.fit(dataset, epochs=EPOCHS)"
   ]
  },
  {
   "cell_type": "code",
   "execution_count": null,
   "metadata": {},
   "outputs": [],
   "source": [
    "import tensorflow as tf"
   ]
  }
 ],
 "metadata": {
  "kernelspec": {
   "display_name": "nlp_tf",
   "language": "python",
   "name": "python3"
  },
  "language_info": {
   "codemirror_mode": {
    "name": "ipython",
    "version": 3
   },
   "file_extension": ".py",
   "mimetype": "text/x-python",
   "name": "python",
   "nbconvert_exporter": "python",
   "pygments_lexer": "ipython3",
   "version": "3.10.9"
  },
  "orig_nbformat": 4,
  "vscode": {
   "interpreter": {
    "hash": "545f545a20ef48d9ad91a95288453e1d0b46d55d89c6de3b2c98cbbf7ed52788"
   }
  }
 },
 "nbformat": 4,
 "nbformat_minor": 2
}
